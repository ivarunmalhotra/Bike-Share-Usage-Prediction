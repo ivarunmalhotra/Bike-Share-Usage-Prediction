{
 "cells": [
  {
   "cell_type": "markdown",
   "metadata": {},
   "source": [
    "# Bike Share Usage Prediction in London\n",
    "***\n",
    "### Importing Libraries"
   ]
  },
  {
   "cell_type": "code",
   "execution_count": 5,
   "metadata": {},
   "outputs": [],
   "source": [
    "import numpy as np\n",
    "import pandas as pd\n",
    "import matplotlib.pyplot as plt\n",
    "import seaborn as sns\n",
    "\n",
    "from sklearn.preprocessing import StandardScaler\n",
    "from sklearn.model_selection import train_test_split\n",
    "from sklearn.linear_model import LinearRegression\n",
    "from xgboost import XGBRegressor\n",
    "from sklearn.metrics import mean_squared_error, mean_absolute_error, r2_score\n",
    "\n",
    "import warnings\n",
    "warnings.filterwarnings(\"ignore\")"
   ]
  },
  {
   "cell_type": "markdown",
   "metadata": {},
   "source": [
    "### Reading data"
   ]
  },
  {
   "cell_type": "code",
   "execution_count": 2,
   "metadata": {},
   "outputs": [],
   "source": [
    "data = pd.read_csv('london_merged.csv')"
   ]
  },
  {
   "cell_type": "code",
   "execution_count": 3,
   "metadata": {},
   "outputs": [
    {
     "data": {
      "text/html": [
       "<div>\n",
       "<style scoped>\n",
       "    .dataframe tbody tr th:only-of-type {\n",
       "        vertical-align: middle;\n",
       "    }\n",
       "\n",
       "    .dataframe tbody tr th {\n",
       "        vertical-align: top;\n",
       "    }\n",
       "\n",
       "    .dataframe thead th {\n",
       "        text-align: right;\n",
       "    }\n",
       "</style>\n",
       "<table border=\"1\" class=\"dataframe\">\n",
       "  <thead>\n",
       "    <tr style=\"text-align: right;\">\n",
       "      <th></th>\n",
       "      <th>timestamp</th>\n",
       "      <th>cnt</th>\n",
       "      <th>t1</th>\n",
       "      <th>t2</th>\n",
       "      <th>hum</th>\n",
       "      <th>wind_speed</th>\n",
       "      <th>weather_code</th>\n",
       "      <th>is_holiday</th>\n",
       "      <th>is_weekend</th>\n",
       "      <th>season</th>\n",
       "    </tr>\n",
       "  </thead>\n",
       "  <tbody>\n",
       "    <tr>\n",
       "      <th>0</th>\n",
       "      <td>2015-01-04 00:00:00</td>\n",
       "      <td>182</td>\n",
       "      <td>3.0</td>\n",
       "      <td>2.0</td>\n",
       "      <td>93.0</td>\n",
       "      <td>6.0</td>\n",
       "      <td>3.0</td>\n",
       "      <td>0.0</td>\n",
       "      <td>1.0</td>\n",
       "      <td>3.0</td>\n",
       "    </tr>\n",
       "    <tr>\n",
       "      <th>1</th>\n",
       "      <td>2015-01-04 01:00:00</td>\n",
       "      <td>138</td>\n",
       "      <td>3.0</td>\n",
       "      <td>2.5</td>\n",
       "      <td>93.0</td>\n",
       "      <td>5.0</td>\n",
       "      <td>1.0</td>\n",
       "      <td>0.0</td>\n",
       "      <td>1.0</td>\n",
       "      <td>3.0</td>\n",
       "    </tr>\n",
       "    <tr>\n",
       "      <th>2</th>\n",
       "      <td>2015-01-04 02:00:00</td>\n",
       "      <td>134</td>\n",
       "      <td>2.5</td>\n",
       "      <td>2.5</td>\n",
       "      <td>96.5</td>\n",
       "      <td>0.0</td>\n",
       "      <td>1.0</td>\n",
       "      <td>0.0</td>\n",
       "      <td>1.0</td>\n",
       "      <td>3.0</td>\n",
       "    </tr>\n",
       "    <tr>\n",
       "      <th>3</th>\n",
       "      <td>2015-01-04 03:00:00</td>\n",
       "      <td>72</td>\n",
       "      <td>2.0</td>\n",
       "      <td>2.0</td>\n",
       "      <td>100.0</td>\n",
       "      <td>0.0</td>\n",
       "      <td>1.0</td>\n",
       "      <td>0.0</td>\n",
       "      <td>1.0</td>\n",
       "      <td>3.0</td>\n",
       "    </tr>\n",
       "    <tr>\n",
       "      <th>4</th>\n",
       "      <td>2015-01-04 04:00:00</td>\n",
       "      <td>47</td>\n",
       "      <td>2.0</td>\n",
       "      <td>0.0</td>\n",
       "      <td>93.0</td>\n",
       "      <td>6.5</td>\n",
       "      <td>1.0</td>\n",
       "      <td>0.0</td>\n",
       "      <td>1.0</td>\n",
       "      <td>3.0</td>\n",
       "    </tr>\n",
       "    <tr>\n",
       "      <th>...</th>\n",
       "      <td>...</td>\n",
       "      <td>...</td>\n",
       "      <td>...</td>\n",
       "      <td>...</td>\n",
       "      <td>...</td>\n",
       "      <td>...</td>\n",
       "      <td>...</td>\n",
       "      <td>...</td>\n",
       "      <td>...</td>\n",
       "      <td>...</td>\n",
       "    </tr>\n",
       "    <tr>\n",
       "      <th>17409</th>\n",
       "      <td>2017-01-03 19:00:00</td>\n",
       "      <td>1042</td>\n",
       "      <td>5.0</td>\n",
       "      <td>1.0</td>\n",
       "      <td>81.0</td>\n",
       "      <td>19.0</td>\n",
       "      <td>3.0</td>\n",
       "      <td>0.0</td>\n",
       "      <td>0.0</td>\n",
       "      <td>3.0</td>\n",
       "    </tr>\n",
       "    <tr>\n",
       "      <th>17410</th>\n",
       "      <td>2017-01-03 20:00:00</td>\n",
       "      <td>541</td>\n",
       "      <td>5.0</td>\n",
       "      <td>1.0</td>\n",
       "      <td>81.0</td>\n",
       "      <td>21.0</td>\n",
       "      <td>4.0</td>\n",
       "      <td>0.0</td>\n",
       "      <td>0.0</td>\n",
       "      <td>3.0</td>\n",
       "    </tr>\n",
       "    <tr>\n",
       "      <th>17411</th>\n",
       "      <td>2017-01-03 21:00:00</td>\n",
       "      <td>337</td>\n",
       "      <td>5.5</td>\n",
       "      <td>1.5</td>\n",
       "      <td>78.5</td>\n",
       "      <td>24.0</td>\n",
       "      <td>4.0</td>\n",
       "      <td>0.0</td>\n",
       "      <td>0.0</td>\n",
       "      <td>3.0</td>\n",
       "    </tr>\n",
       "    <tr>\n",
       "      <th>17412</th>\n",
       "      <td>2017-01-03 22:00:00</td>\n",
       "      <td>224</td>\n",
       "      <td>5.5</td>\n",
       "      <td>1.5</td>\n",
       "      <td>76.0</td>\n",
       "      <td>23.0</td>\n",
       "      <td>4.0</td>\n",
       "      <td>0.0</td>\n",
       "      <td>0.0</td>\n",
       "      <td>3.0</td>\n",
       "    </tr>\n",
       "    <tr>\n",
       "      <th>17413</th>\n",
       "      <td>2017-01-03 23:00:00</td>\n",
       "      <td>139</td>\n",
       "      <td>5.0</td>\n",
       "      <td>1.0</td>\n",
       "      <td>76.0</td>\n",
       "      <td>22.0</td>\n",
       "      <td>2.0</td>\n",
       "      <td>0.0</td>\n",
       "      <td>0.0</td>\n",
       "      <td>3.0</td>\n",
       "    </tr>\n",
       "  </tbody>\n",
       "</table>\n",
       "<p>17414 rows × 10 columns</p>\n",
       "</div>"
      ],
      "text/plain": [
       "                 timestamp   cnt   t1   t2    hum  wind_speed  weather_code  \\\n",
       "0      2015-01-04 00:00:00   182  3.0  2.0   93.0         6.0           3.0   \n",
       "1      2015-01-04 01:00:00   138  3.0  2.5   93.0         5.0           1.0   \n",
       "2      2015-01-04 02:00:00   134  2.5  2.5   96.5         0.0           1.0   \n",
       "3      2015-01-04 03:00:00    72  2.0  2.0  100.0         0.0           1.0   \n",
       "4      2015-01-04 04:00:00    47  2.0  0.0   93.0         6.5           1.0   \n",
       "...                    ...   ...  ...  ...    ...         ...           ...   \n",
       "17409  2017-01-03 19:00:00  1042  5.0  1.0   81.0        19.0           3.0   \n",
       "17410  2017-01-03 20:00:00   541  5.0  1.0   81.0        21.0           4.0   \n",
       "17411  2017-01-03 21:00:00   337  5.5  1.5   78.5        24.0           4.0   \n",
       "17412  2017-01-03 22:00:00   224  5.5  1.5   76.0        23.0           4.0   \n",
       "17413  2017-01-03 23:00:00   139  5.0  1.0   76.0        22.0           2.0   \n",
       "\n",
       "       is_holiday  is_weekend  season  \n",
       "0             0.0         1.0     3.0  \n",
       "1             0.0         1.0     3.0  \n",
       "2             0.0         1.0     3.0  \n",
       "3             0.0         1.0     3.0  \n",
       "4             0.0         1.0     3.0  \n",
       "...           ...         ...     ...  \n",
       "17409         0.0         0.0     3.0  \n",
       "17410         0.0         0.0     3.0  \n",
       "17411         0.0         0.0     3.0  \n",
       "17412         0.0         0.0     3.0  \n",
       "17413         0.0         0.0     3.0  \n",
       "\n",
       "[17414 rows x 10 columns]"
      ]
     },
     "execution_count": 3,
     "metadata": {},
     "output_type": "execute_result"
    }
   ],
   "source": [
    "data"
   ]
  },
  {
   "cell_type": "markdown",
   "metadata": {},
   "source": [
    "### Data types"
   ]
  },
  {
   "cell_type": "code",
   "execution_count": 4,
   "metadata": {},
   "outputs": [
    {
     "data": {
      "text/plain": [
       "timestamp        object\n",
       "cnt               int64\n",
       "t1              float64\n",
       "t2              float64\n",
       "hum             float64\n",
       "wind_speed      float64\n",
       "weather_code    float64\n",
       "is_holiday      float64\n",
       "is_weekend      float64\n",
       "season          float64\n",
       "dtype: object"
      ]
     },
     "execution_count": 4,
     "metadata": {},
     "output_type": "execute_result"
    }
   ],
   "source": [
    "data.dtypes"
   ]
  },
  {
   "cell_type": "markdown",
   "metadata": {},
   "source": [
    "### Exploratory Data Analysis"
   ]
  },
  {
   "cell_type": "code",
   "execution_count": 5,
   "metadata": {},
   "outputs": [
    {
     "data": {
      "text/plain": [
       "(17414, 10)"
      ]
     },
     "execution_count": 5,
     "metadata": {},
     "output_type": "execute_result"
    }
   ],
   "source": [
    "data.shape"
   ]
  },
  {
   "cell_type": "code",
   "execution_count": 6,
   "metadata": {},
   "outputs": [
    {
     "data": {
      "text/plain": [
       "0"
      ]
     },
     "execution_count": 6,
     "metadata": {},
     "output_type": "execute_result"
    }
   ],
   "source": [
    "data.isnull().sum().sum()"
   ]
  },
  {
   "cell_type": "code",
   "execution_count": 7,
   "metadata": {},
   "outputs": [
    {
     "data": {
      "text/html": [
       "<div>\n",
       "<style scoped>\n",
       "    .dataframe tbody tr th:only-of-type {\n",
       "        vertical-align: middle;\n",
       "    }\n",
       "\n",
       "    .dataframe tbody tr th {\n",
       "        vertical-align: top;\n",
       "    }\n",
       "\n",
       "    .dataframe thead th {\n",
       "        text-align: right;\n",
       "    }\n",
       "</style>\n",
       "<table border=\"1\" class=\"dataframe\">\n",
       "  <thead>\n",
       "    <tr style=\"text-align: right;\">\n",
       "      <th></th>\n",
       "      <th>cnt</th>\n",
       "      <th>t1</th>\n",
       "      <th>t2</th>\n",
       "      <th>hum</th>\n",
       "      <th>wind_speed</th>\n",
       "      <th>weather_code</th>\n",
       "      <th>is_holiday</th>\n",
       "      <th>is_weekend</th>\n",
       "      <th>season</th>\n",
       "    </tr>\n",
       "  </thead>\n",
       "  <tbody>\n",
       "    <tr>\n",
       "      <th>count</th>\n",
       "      <td>17414.000000</td>\n",
       "      <td>17414.000000</td>\n",
       "      <td>17414.000000</td>\n",
       "      <td>17414.000000</td>\n",
       "      <td>17414.000000</td>\n",
       "      <td>17414.000000</td>\n",
       "      <td>17414.000000</td>\n",
       "      <td>17414.000000</td>\n",
       "      <td>17414.000000</td>\n",
       "    </tr>\n",
       "    <tr>\n",
       "      <th>mean</th>\n",
       "      <td>1143.101642</td>\n",
       "      <td>12.468091</td>\n",
       "      <td>11.520836</td>\n",
       "      <td>72.324954</td>\n",
       "      <td>15.913063</td>\n",
       "      <td>2.722752</td>\n",
       "      <td>0.022051</td>\n",
       "      <td>0.285403</td>\n",
       "      <td>1.492075</td>\n",
       "    </tr>\n",
       "    <tr>\n",
       "      <th>std</th>\n",
       "      <td>1085.108068</td>\n",
       "      <td>5.571818</td>\n",
       "      <td>6.615145</td>\n",
       "      <td>14.313186</td>\n",
       "      <td>7.894570</td>\n",
       "      <td>2.341163</td>\n",
       "      <td>0.146854</td>\n",
       "      <td>0.451619</td>\n",
       "      <td>1.118911</td>\n",
       "    </tr>\n",
       "    <tr>\n",
       "      <th>min</th>\n",
       "      <td>0.000000</td>\n",
       "      <td>-1.500000</td>\n",
       "      <td>-6.000000</td>\n",
       "      <td>20.500000</td>\n",
       "      <td>0.000000</td>\n",
       "      <td>1.000000</td>\n",
       "      <td>0.000000</td>\n",
       "      <td>0.000000</td>\n",
       "      <td>0.000000</td>\n",
       "    </tr>\n",
       "    <tr>\n",
       "      <th>25%</th>\n",
       "      <td>257.000000</td>\n",
       "      <td>8.000000</td>\n",
       "      <td>6.000000</td>\n",
       "      <td>63.000000</td>\n",
       "      <td>10.000000</td>\n",
       "      <td>1.000000</td>\n",
       "      <td>0.000000</td>\n",
       "      <td>0.000000</td>\n",
       "      <td>0.000000</td>\n",
       "    </tr>\n",
       "    <tr>\n",
       "      <th>50%</th>\n",
       "      <td>844.000000</td>\n",
       "      <td>12.500000</td>\n",
       "      <td>12.500000</td>\n",
       "      <td>74.500000</td>\n",
       "      <td>15.000000</td>\n",
       "      <td>2.000000</td>\n",
       "      <td>0.000000</td>\n",
       "      <td>0.000000</td>\n",
       "      <td>1.000000</td>\n",
       "    </tr>\n",
       "    <tr>\n",
       "      <th>75%</th>\n",
       "      <td>1671.750000</td>\n",
       "      <td>16.000000</td>\n",
       "      <td>16.000000</td>\n",
       "      <td>83.000000</td>\n",
       "      <td>20.500000</td>\n",
       "      <td>3.000000</td>\n",
       "      <td>0.000000</td>\n",
       "      <td>1.000000</td>\n",
       "      <td>2.000000</td>\n",
       "    </tr>\n",
       "    <tr>\n",
       "      <th>max</th>\n",
       "      <td>7860.000000</td>\n",
       "      <td>34.000000</td>\n",
       "      <td>34.000000</td>\n",
       "      <td>100.000000</td>\n",
       "      <td>56.500000</td>\n",
       "      <td>26.000000</td>\n",
       "      <td>1.000000</td>\n",
       "      <td>1.000000</td>\n",
       "      <td>3.000000</td>\n",
       "    </tr>\n",
       "  </tbody>\n",
       "</table>\n",
       "</div>"
      ],
      "text/plain": [
       "                cnt            t1            t2           hum    wind_speed  \\\n",
       "count  17414.000000  17414.000000  17414.000000  17414.000000  17414.000000   \n",
       "mean    1143.101642     12.468091     11.520836     72.324954     15.913063   \n",
       "std     1085.108068      5.571818      6.615145     14.313186      7.894570   \n",
       "min        0.000000     -1.500000     -6.000000     20.500000      0.000000   \n",
       "25%      257.000000      8.000000      6.000000     63.000000     10.000000   \n",
       "50%      844.000000     12.500000     12.500000     74.500000     15.000000   \n",
       "75%     1671.750000     16.000000     16.000000     83.000000     20.500000   \n",
       "max     7860.000000     34.000000     34.000000    100.000000     56.500000   \n",
       "\n",
       "       weather_code    is_holiday    is_weekend        season  \n",
       "count  17414.000000  17414.000000  17414.000000  17414.000000  \n",
       "mean       2.722752      0.022051      0.285403      1.492075  \n",
       "std        2.341163      0.146854      0.451619      1.118911  \n",
       "min        1.000000      0.000000      0.000000      0.000000  \n",
       "25%        1.000000      0.000000      0.000000      0.000000  \n",
       "50%        2.000000      0.000000      0.000000      1.000000  \n",
       "75%        3.000000      0.000000      1.000000      2.000000  \n",
       "max       26.000000      1.000000      1.000000      3.000000  "
      ]
     },
     "execution_count": 7,
     "metadata": {},
     "output_type": "execute_result"
    }
   ],
   "source": [
    "data.describe()"
   ]
  },
  {
   "cell_type": "markdown",
   "metadata": {},
   "source": [
    "### Removing Outliers"
   ]
  },
  {
   "cell_type": "code",
   "execution_count": 8,
   "metadata": {},
   "outputs": [],
   "source": [
    "# Normalization\n",
    "\n",
    "def sqrt_transformation(dataframe):\n",
    "      return np.sqrt(dataframe)\n",
    "\n",
    "\n",
    "# function for removing outliers\n",
    "\n",
    "def remove_outliers(dataframe, column):\n",
    "    q3 = dataframe[column].quantile(0.75)\n",
    "    q1 = dataframe[column].quantile(0.25)\n",
    "    IQR = q3 - q1\n",
    "  \n",
    "    upper = q3 + (1.5 * IQR)\n",
    "    lower = q1 - (1.5 * IQR)\n",
    "    dataframe = dataframe[(dataframe[column] > lower ) & (dataframe[column] < upper)]\n",
    "\n",
    "    return dataframe"
   ]
  },
  {
   "cell_type": "code",
   "execution_count": 9,
   "metadata": {},
   "outputs": [
    {
     "data": {
      "image/png": "[encoded data removed]",
      "text/plain": [
       "<Figure size 576x432 with 1 Axes>"
      ]
     },
     "metadata": {
      "needs_background": "light"
     },
     "output_type": "display_data"
    }
   ],
   "source": [
    "plt.figure(figsize = (8,6))\n",
    "sns.boxplot(x = 'cnt', data = data);"
   ]
  },
  {
   "cell_type": "code",
   "execution_count": 10,
   "metadata": {},
   "outputs": [
    {
     "data": {
      "image/png": "[encoded data removed]",
      "text/plain": [
       "<Figure size 576x432 with 1 Axes>"
      ]
     },
     "metadata": {
      "needs_background": "light"
     },
     "output_type": "display_data"
    }
   ],
   "source": [
    "plt.figure(figsize = (8,6))\n",
    "sns.boxplot(x = 't1', data = data);"
   ]
  },
  {
   "cell_type": "code",
   "execution_count": 11,
   "metadata": {},
   "outputs": [
    {
     "data": {
      "image/png": "[encoded data removed]",
      "text/plain": [
       "<Figure size 576x432 with 1 Axes>"
      ]
     },
     "metadata": {
      "needs_background": "light"
     },
     "output_type": "display_data"
    }
   ],
   "source": [
    "plt.figure(figsize = (8,6))\n",
    "sns.boxplot(x = 't2', data = data);"
   ]
  },
  {
   "cell_type": "code",
   "execution_count": 12,
   "metadata": {},
   "outputs": [
    {
     "data": {
      "image/png": "[encoded data removed]",
      "text/plain": [
       "<Figure size 576x432 with 1 Axes>"
      ]
     },
     "metadata": {
      "needs_background": "light"
     },
     "output_type": "display_data"
    }
   ],
   "source": [
    "plt.figure(figsize = (8,6))\n",
    "sns.boxplot(x = 'hum', data = data);"
   ]
  },
  {
   "cell_type": "code",
   "execution_count": 13,
   "metadata": {},
   "outputs": [
    {
     "data": {
      "image/png": "[encoded data removed]",
      "text/plain": [
       "<Figure size 576x432 with 1 Axes>"
      ]
     },
     "metadata": {
      "needs_background": "light"
     },
     "output_type": "display_data"
    }
   ],
   "source": [
    "plt.figure(figsize = (8,6))\n",
    "sns.boxplot(x = 'wind_speed', data = data);"
   ]
  },
  {
   "cell_type": "code",
   "execution_count": 14,
   "metadata": {},
   "outputs": [
    {
     "data": {
      "image/png": "[encoded data removed]",
      "text/plain": [
       "<Figure size 576x432 with 1 Axes>"
      ]
     },
     "metadata": {
      "needs_background": "light"
     },
     "output_type": "display_data"
    }
   ],
   "source": [
    "plt.figure(figsize = (8,6))\n",
    "sns.boxplot(x = 'weather_code', data = data);"
   ]
  },
  {
   "cell_type": "code",
   "execution_count": 15,
   "metadata": {},
   "outputs": [],
   "source": [
    "data = remove_outliers(data,'cnt')\n",
    "data = remove_outliers(data, 'hum')"
   ]
  },
  {
   "cell_type": "markdown",
   "metadata": {},
   "source": [
    "### Displot"
   ]
  },
  {
   "cell_type": "code",
   "execution_count": 16,
   "metadata": {},
   "outputs": [
    {
     "data": {
      "image/png": "[encoded data removed]",
      "text/plain": [
       "<Figure size 864x432 with 1 Axes>"
      ]
     },
     "metadata": {
      "needs_background": "light"
     },
     "output_type": "display_data"
    }
   ],
   "source": [
    "sns.displot(x = 'cnt', data = data, aspect = 2, height = 6, kde = True);"
   ]
  },
  {
   "cell_type": "markdown",
   "metadata": {},
   "source": [
    "### Coorelation Matrix"
   ]
  },
  {
   "cell_type": "code",
   "execution_count": 17,
   "metadata": {},
   "outputs": [
    {
     "data": {
      "text/plain": [
       "<matplotlib.axes._subplots.AxesSubplot at 0x1a4eeb11e20>"
      ]
     },
     "execution_count": 17,
     "metadata": {},
     "output_type": "execute_result"
    },
    {
     "data": {
      "image/png": "[encoded data removed]",
      "text/plain": [
       "<Figure size 720x504 with 2 Axes>"
      ]
     },
     "metadata": {
      "needs_background": "light"
     },
     "output_type": "display_data"
    }
   ],
   "source": [
    "corrmat = data.corr()\n",
    "f, ax = plt.subplots(figsize = (10,7))\n",
    "sns.heatmap(corrmat, vmax=1, cmap=\"YlGnBu\", annot=True)"
   ]
  },
  {
   "cell_type": "markdown",
   "metadata": {},
   "source": [
    "### Weather Code"
   ]
  },
  {
   "cell_type": "code",
   "execution_count": 18,
   "metadata": {},
   "outputs": [
    {
     "data": {
      "text/plain": [
       "1.0     5727\n",
       "2.0     3826\n",
       "3.0     3436\n",
       "7.0     2129\n",
       "4.0     1455\n",
       "26.0      60\n",
       "10.0      14\n",
       "Name: weather_code, dtype: int64"
      ]
     },
     "execution_count": 18,
     "metadata": {},
     "output_type": "execute_result"
    }
   ],
   "source": [
    "data['weather_code'].value_counts()"
   ]
  },
  {
   "cell_type": "markdown",
   "metadata": {},
   "source": [
    "### Countplot"
   ]
  },
  {
   "cell_type": "code",
   "execution_count": 19,
   "metadata": {},
   "outputs": [
    {
     "data": {
      "image/png": "[encoded data removed]",
      "text/plain": [
       "<Figure size 432x288 with 1 Axes>"
      ]
     },
     "metadata": {
      "needs_background": "light"
     },
     "output_type": "display_data"
    }
   ],
   "source": [
    "for i in ['weather_code']:\n",
    "    sns.countplot(x = i, data = data);"
   ]
  },
  {
   "cell_type": "markdown",
   "metadata": {},
   "source": [
    "### Boxplot"
   ]
  },
  {
   "cell_type": "code",
   "execution_count": 20,
   "metadata": {},
   "outputs": [
    {
     "data": {
      "image/png": "[encoded data removed]",
      "text/plain": [
       "<Figure size 576x432 with 1 Axes>"
      ]
     },
     "metadata": {
      "needs_background": "light"
     },
     "output_type": "display_data"
    }
   ],
   "source": [
    "plt.figure(figsize = (8,6))\n",
    "sns.boxplot(y = 'cnt', x = 'weather_code', data = data);"
   ]
  },
  {
   "cell_type": "code",
   "execution_count": 21,
   "metadata": {},
   "outputs": [],
   "source": [
    "# convert date (object) into datetime\n",
    "data['timestamp'] = pd.to_datetime(data['timestamp'], format = '%Y%m%d %H:%M:%S')"
   ]
  },
  {
   "cell_type": "code",
   "execution_count": 22,
   "metadata": {},
   "outputs": [
    {
     "data": {
      "text/plain": [
       "0       2015-01-04 00:00:00\n",
       "1       2015-01-04 01:00:00\n",
       "2       2015-01-04 02:00:00\n",
       "3       2015-01-04 03:00:00\n",
       "4       2015-01-04 04:00:00\n",
       "                ...        \n",
       "17409   2017-01-03 19:00:00\n",
       "17410   2017-01-03 20:00:00\n",
       "17411   2017-01-03 21:00:00\n",
       "17412   2017-01-03 22:00:00\n",
       "17413   2017-01-03 23:00:00\n",
       "Name: timestamp, Length: 16647, dtype: datetime64[ns]"
      ]
     },
     "execution_count": 22,
     "metadata": {},
     "output_type": "execute_result"
    }
   ],
   "source": [
    "data['timestamp']"
   ]
  },
  {
   "cell_type": "code",
   "execution_count": 23,
   "metadata": {},
   "outputs": [],
   "source": [
    "# Seperating all the year, month and hour and visualize them\n",
    "data['year'] = data['timestamp'].dt.year\n",
    "data['month'] = data['timestamp'].dt.month\n",
    "data['hour'] = data['timestamp'].dt.hour"
   ]
  },
  {
   "cell_type": "code",
   "execution_count": 24,
   "metadata": {},
   "outputs": [
    {
     "data": {
      "text/html": [
       "<div>\n",
       "<style scoped>\n",
       "    .dataframe tbody tr th:only-of-type {\n",
       "        vertical-align: middle;\n",
       "    }\n",
       "\n",
       "    .dataframe tbody tr th {\n",
       "        vertical-align: top;\n",
       "    }\n",
       "\n",
       "    .dataframe thead th {\n",
       "        text-align: right;\n",
       "    }\n",
       "</style>\n",
       "<table border=\"1\" class=\"dataframe\">\n",
       "  <thead>\n",
       "    <tr style=\"text-align: right;\">\n",
       "      <th></th>\n",
       "      <th>timestamp</th>\n",
       "      <th>cnt</th>\n",
       "      <th>t1</th>\n",
       "      <th>t2</th>\n",
       "      <th>hum</th>\n",
       "      <th>wind_speed</th>\n",
       "      <th>weather_code</th>\n",
       "      <th>is_holiday</th>\n",
       "      <th>is_weekend</th>\n",
       "      <th>season</th>\n",
       "      <th>year</th>\n",
       "      <th>month</th>\n",
       "      <th>hour</th>\n",
       "    </tr>\n",
       "  </thead>\n",
       "  <tbody>\n",
       "    <tr>\n",
       "      <th>0</th>\n",
       "      <td>2015-01-04 00:00:00</td>\n",
       "      <td>182</td>\n",
       "      <td>3.0</td>\n",
       "      <td>2.0</td>\n",
       "      <td>93.0</td>\n",
       "      <td>6.0</td>\n",
       "      <td>3.0</td>\n",
       "      <td>0.0</td>\n",
       "      <td>1.0</td>\n",
       "      <td>3.0</td>\n",
       "      <td>2015</td>\n",
       "      <td>1</td>\n",
       "      <td>0</td>\n",
       "    </tr>\n",
       "    <tr>\n",
       "      <th>1</th>\n",
       "      <td>2015-01-04 01:00:00</td>\n",
       "      <td>138</td>\n",
       "      <td>3.0</td>\n",
       "      <td>2.5</td>\n",
       "      <td>93.0</td>\n",
       "      <td>5.0</td>\n",
       "      <td>1.0</td>\n",
       "      <td>0.0</td>\n",
       "      <td>1.0</td>\n",
       "      <td>3.0</td>\n",
       "      <td>2015</td>\n",
       "      <td>1</td>\n",
       "      <td>1</td>\n",
       "    </tr>\n",
       "    <tr>\n",
       "      <th>2</th>\n",
       "      <td>2015-01-04 02:00:00</td>\n",
       "      <td>134</td>\n",
       "      <td>2.5</td>\n",
       "      <td>2.5</td>\n",
       "      <td>96.5</td>\n",
       "      <td>0.0</td>\n",
       "      <td>1.0</td>\n",
       "      <td>0.0</td>\n",
       "      <td>1.0</td>\n",
       "      <td>3.0</td>\n",
       "      <td>2015</td>\n",
       "      <td>1</td>\n",
       "      <td>2</td>\n",
       "    </tr>\n",
       "    <tr>\n",
       "      <th>3</th>\n",
       "      <td>2015-01-04 03:00:00</td>\n",
       "      <td>72</td>\n",
       "      <td>2.0</td>\n",
       "      <td>2.0</td>\n",
       "      <td>100.0</td>\n",
       "      <td>0.0</td>\n",
       "      <td>1.0</td>\n",
       "      <td>0.0</td>\n",
       "      <td>1.0</td>\n",
       "      <td>3.0</td>\n",
       "      <td>2015</td>\n",
       "      <td>1</td>\n",
       "      <td>3</td>\n",
       "    </tr>\n",
       "    <tr>\n",
       "      <th>4</th>\n",
       "      <td>2015-01-04 04:00:00</td>\n",
       "      <td>47</td>\n",
       "      <td>2.0</td>\n",
       "      <td>0.0</td>\n",
       "      <td>93.0</td>\n",
       "      <td>6.5</td>\n",
       "      <td>1.0</td>\n",
       "      <td>0.0</td>\n",
       "      <td>1.0</td>\n",
       "      <td>3.0</td>\n",
       "      <td>2015</td>\n",
       "      <td>1</td>\n",
       "      <td>4</td>\n",
       "    </tr>\n",
       "    <tr>\n",
       "      <th>5</th>\n",
       "      <td>2015-01-04 05:00:00</td>\n",
       "      <td>46</td>\n",
       "      <td>2.0</td>\n",
       "      <td>2.0</td>\n",
       "      <td>93.0</td>\n",
       "      <td>4.0</td>\n",
       "      <td>1.0</td>\n",
       "      <td>0.0</td>\n",
       "      <td>1.0</td>\n",
       "      <td>3.0</td>\n",
       "      <td>2015</td>\n",
       "      <td>1</td>\n",
       "      <td>5</td>\n",
       "    </tr>\n",
       "    <tr>\n",
       "      <th>6</th>\n",
       "      <td>2015-01-04 06:00:00</td>\n",
       "      <td>51</td>\n",
       "      <td>1.0</td>\n",
       "      <td>-1.0</td>\n",
       "      <td>100.0</td>\n",
       "      <td>7.0</td>\n",
       "      <td>4.0</td>\n",
       "      <td>0.0</td>\n",
       "      <td>1.0</td>\n",
       "      <td>3.0</td>\n",
       "      <td>2015</td>\n",
       "      <td>1</td>\n",
       "      <td>6</td>\n",
       "    </tr>\n",
       "    <tr>\n",
       "      <th>7</th>\n",
       "      <td>2015-01-04 07:00:00</td>\n",
       "      <td>75</td>\n",
       "      <td>1.0</td>\n",
       "      <td>-1.0</td>\n",
       "      <td>100.0</td>\n",
       "      <td>7.0</td>\n",
       "      <td>4.0</td>\n",
       "      <td>0.0</td>\n",
       "      <td>1.0</td>\n",
       "      <td>3.0</td>\n",
       "      <td>2015</td>\n",
       "      <td>1</td>\n",
       "      <td>7</td>\n",
       "    </tr>\n",
       "    <tr>\n",
       "      <th>8</th>\n",
       "      <td>2015-01-04 08:00:00</td>\n",
       "      <td>131</td>\n",
       "      <td>1.5</td>\n",
       "      <td>-1.0</td>\n",
       "      <td>96.5</td>\n",
       "      <td>8.0</td>\n",
       "      <td>4.0</td>\n",
       "      <td>0.0</td>\n",
       "      <td>1.0</td>\n",
       "      <td>3.0</td>\n",
       "      <td>2015</td>\n",
       "      <td>1</td>\n",
       "      <td>8</td>\n",
       "    </tr>\n",
       "    <tr>\n",
       "      <th>9</th>\n",
       "      <td>2015-01-04 09:00:00</td>\n",
       "      <td>301</td>\n",
       "      <td>2.0</td>\n",
       "      <td>-0.5</td>\n",
       "      <td>100.0</td>\n",
       "      <td>9.0</td>\n",
       "      <td>3.0</td>\n",
       "      <td>0.0</td>\n",
       "      <td>1.0</td>\n",
       "      <td>3.0</td>\n",
       "      <td>2015</td>\n",
       "      <td>1</td>\n",
       "      <td>9</td>\n",
       "    </tr>\n",
       "  </tbody>\n",
       "</table>\n",
       "</div>"
      ],
      "text/plain": [
       "            timestamp  cnt   t1   t2    hum  wind_speed  weather_code  \\\n",
       "0 2015-01-04 00:00:00  182  3.0  2.0   93.0         6.0           3.0   \n",
       "1 2015-01-04 01:00:00  138  3.0  2.5   93.0         5.0           1.0   \n",
       "2 2015-01-04 02:00:00  134  2.5  2.5   96.5         0.0           1.0   \n",
       "3 2015-01-04 03:00:00   72  2.0  2.0  100.0         0.0           1.0   \n",
       "4 2015-01-04 04:00:00   47  2.0  0.0   93.0         6.5           1.0   \n",
       "5 2015-01-04 05:00:00   46  2.0  2.0   93.0         4.0           1.0   \n",
       "6 2015-01-04 06:00:00   51  1.0 -1.0  100.0         7.0           4.0   \n",
       "7 2015-01-04 07:00:00   75  1.0 -1.0  100.0         7.0           4.0   \n",
       "8 2015-01-04 08:00:00  131  1.5 -1.0   96.5         8.0           4.0   \n",
       "9 2015-01-04 09:00:00  301  2.0 -0.5  100.0         9.0           3.0   \n",
       "\n",
       "   is_holiday  is_weekend  season  year  month  hour  \n",
       "0         0.0         1.0     3.0  2015      1     0  \n",
       "1         0.0         1.0     3.0  2015      1     1  \n",
       "2         0.0         1.0     3.0  2015      1     2  \n",
       "3         0.0         1.0     3.0  2015      1     3  \n",
       "4         0.0         1.0     3.0  2015      1     4  \n",
       "5         0.0         1.0     3.0  2015      1     5  \n",
       "6         0.0         1.0     3.0  2015      1     6  \n",
       "7         0.0         1.0     3.0  2015      1     7  \n",
       "8         0.0         1.0     3.0  2015      1     8  \n",
       "9         0.0         1.0     3.0  2015      1     9  "
      ]
     },
     "execution_count": 24,
     "metadata": {},
     "output_type": "execute_result"
    }
   ],
   "source": [
    "data.head(10)"
   ]
  },
  {
   "cell_type": "markdown",
   "metadata": {},
   "source": [
    "### Removing unwanted data "
   ]
  },
  {
   "cell_type": "code",
   "execution_count": 25,
   "metadata": {},
   "outputs": [],
   "source": [
    "data = data.drop('timestamp', axis=1)"
   ]
  },
  {
   "cell_type": "markdown",
   "metadata": {},
   "source": [
    "### Train Test Splitting"
   ]
  },
  {
   "cell_type": "code",
   "execution_count": 26,
   "metadata": {},
   "outputs": [],
   "source": [
    "X = data.drop('cnt', axis=1)\n",
    "y = data['cnt']"
   ]
  },
  {
   "cell_type": "markdown",
   "metadata": {},
   "source": [
    "### Feature Scaling"
   ]
  },
  {
   "cell_type": "code",
   "execution_count": 27,
   "metadata": {},
   "outputs": [],
   "source": [
    "scaler = StandardScaler()\n",
    "X_scaler = scaler.fit_transform(X)"
   ]
  },
  {
   "cell_type": "code",
   "execution_count": 28,
   "metadata": {},
   "outputs": [],
   "source": [
    "X = pd.DataFrame(data = X_scaler, columns = X.columns)"
   ]
  },
  {
   "cell_type": "code",
   "execution_count": 29,
   "metadata": {},
   "outputs": [],
   "source": [
    "# Train-test split\n",
    "X_train, X_test, y_train, y_test = train_test_split(X, y, train_size=0.7, shuffle=True, random_state=1)"
   ]
  },
  {
   "cell_type": "code",
   "execution_count": 30,
   "metadata": {},
   "outputs": [
    {
     "data": {
      "text/html": [
       "<div>\n",
       "<style scoped>\n",
       "    .dataframe tbody tr th:only-of-type {\n",
       "        vertical-align: middle;\n",
       "    }\n",
       "\n",
       "    .dataframe tbody tr th {\n",
       "        vertical-align: top;\n",
       "    }\n",
       "\n",
       "    .dataframe thead th {\n",
       "        text-align: right;\n",
       "    }\n",
       "</style>\n",
       "<table border=\"1\" class=\"dataframe\">\n",
       "  <thead>\n",
       "    <tr style=\"text-align: right;\">\n",
       "      <th></th>\n",
       "      <th>t1</th>\n",
       "      <th>t2</th>\n",
       "      <th>hum</th>\n",
       "      <th>wind_speed</th>\n",
       "      <th>weather_code</th>\n",
       "      <th>is_holiday</th>\n",
       "      <th>is_weekend</th>\n",
       "      <th>season</th>\n",
       "      <th>year</th>\n",
       "      <th>month</th>\n",
       "      <th>hour</th>\n",
       "    </tr>\n",
       "  </thead>\n",
       "  <tbody>\n",
       "    <tr>\n",
       "      <th>16560</th>\n",
       "      <td>-1.147437</td>\n",
       "      <td>-1.270578</td>\n",
       "      <td>1.962310</td>\n",
       "      <td>-0.237405</td>\n",
       "      <td>0.518232</td>\n",
       "      <td>-0.153662</td>\n",
       "      <td>1.546771</td>\n",
       "      <td>1.321688</td>\n",
       "      <td>0.969001</td>\n",
       "      <td>1.577585</td>\n",
       "      <td>-0.349909</td>\n",
       "    </tr>\n",
       "    <tr>\n",
       "      <th>3081</th>\n",
       "      <td>0.414931</td>\n",
       "      <td>0.496124</td>\n",
       "      <td>-1.446788</td>\n",
       "      <td>-0.866787</td>\n",
       "      <td>-0.324332</td>\n",
       "      <td>-0.153662</td>\n",
       "      <td>-0.646508</td>\n",
       "      <td>-1.337824</td>\n",
       "      <td>-0.997470</td>\n",
       "      <td>-0.425819</td>\n",
       "      <td>0.507287</td>\n",
       "    </tr>\n",
       "    <tr>\n",
       "      <th>4223</th>\n",
       "      <td>0.506835</td>\n",
       "      <td>0.572937</td>\n",
       "      <td>0.475363</td>\n",
       "      <td>-0.615035</td>\n",
       "      <td>-0.745613</td>\n",
       "      <td>-0.153662</td>\n",
       "      <td>-0.646508</td>\n",
       "      <td>-0.451320</td>\n",
       "      <td>-0.997470</td>\n",
       "      <td>0.146582</td>\n",
       "      <td>-1.207104</td>\n",
       "    </tr>\n",
       "    <tr>\n",
       "      <th>3296</th>\n",
       "      <td>0.231123</td>\n",
       "      <td>0.342498</td>\n",
       "      <td>-0.249977</td>\n",
       "      <td>-0.237405</td>\n",
       "      <td>0.518232</td>\n",
       "      <td>6.507808</td>\n",
       "      <td>-0.646508</td>\n",
       "      <td>-1.337824</td>\n",
       "      <td>-0.997470</td>\n",
       "      <td>-0.425819</td>\n",
       "      <td>-1.635702</td>\n",
       "    </tr>\n",
       "    <tr>\n",
       "      <th>1356</th>\n",
       "      <td>-0.963629</td>\n",
       "      <td>-1.270578</td>\n",
       "      <td>0.221494</td>\n",
       "      <td>1.650740</td>\n",
       "      <td>-0.745613</td>\n",
       "      <td>-0.153662</td>\n",
       "      <td>1.546771</td>\n",
       "      <td>-1.337824</td>\n",
       "      <td>-0.997470</td>\n",
       "      <td>-0.998221</td>\n",
       "      <td>1.078751</td>\n",
       "    </tr>\n",
       "    <tr>\n",
       "      <th>...</th>\n",
       "      <td>...</td>\n",
       "      <td>...</td>\n",
       "      <td>...</td>\n",
       "      <td>...</td>\n",
       "      <td>...</td>\n",
       "      <td>...</td>\n",
       "      <td>...</td>\n",
       "      <td>...</td>\n",
       "      <td>...</td>\n",
       "      <td>...</td>\n",
       "      <td>...</td>\n",
       "    </tr>\n",
       "    <tr>\n",
       "      <th>7813</th>\n",
       "      <td>0.231123</td>\n",
       "      <td>0.342498</td>\n",
       "      <td>0.112693</td>\n",
       "      <td>2.091307</td>\n",
       "      <td>0.096950</td>\n",
       "      <td>-0.153662</td>\n",
       "      <td>1.546771</td>\n",
       "      <td>1.321688</td>\n",
       "      <td>-0.997470</td>\n",
       "      <td>1.577585</td>\n",
       "      <td>0.793019</td>\n",
       "    </tr>\n",
       "    <tr>\n",
       "      <th>10955</th>\n",
       "      <td>-1.515053</td>\n",
       "      <td>-1.501018</td>\n",
       "      <td>1.019368</td>\n",
       "      <td>-0.740911</td>\n",
       "      <td>1.782077</td>\n",
       "      <td>-0.153662</td>\n",
       "      <td>1.546771</td>\n",
       "      <td>-1.337824</td>\n",
       "      <td>0.969001</td>\n",
       "      <td>-0.712020</td>\n",
       "      <td>-0.492775</td>\n",
       "    </tr>\n",
       "    <tr>\n",
       "      <th>5192</th>\n",
       "      <td>1.609682</td>\n",
       "      <td>1.494694</td>\n",
       "      <td>-0.286244</td>\n",
       "      <td>-0.237405</td>\n",
       "      <td>0.096950</td>\n",
       "      <td>-0.153662</td>\n",
       "      <td>-0.646508</td>\n",
       "      <td>-0.451320</td>\n",
       "      <td>-0.997470</td>\n",
       "      <td>0.432782</td>\n",
       "      <td>0.364421</td>\n",
       "    </tr>\n",
       "    <tr>\n",
       "      <th>12172</th>\n",
       "      <td>0.782547</td>\n",
       "      <td>0.803376</td>\n",
       "      <td>0.511630</td>\n",
       "      <td>-0.615035</td>\n",
       "      <td>1.782077</td>\n",
       "      <td>-0.153662</td>\n",
       "      <td>-0.646508</td>\n",
       "      <td>-0.451320</td>\n",
       "      <td>0.969001</td>\n",
       "      <td>-0.139619</td>\n",
       "      <td>0.793019</td>\n",
       "    </tr>\n",
       "    <tr>\n",
       "      <th>235</th>\n",
       "      <td>-1.331245</td>\n",
       "      <td>-1.577831</td>\n",
       "      <td>0.221494</td>\n",
       "      <td>0.895482</td>\n",
       "      <td>-0.324332</td>\n",
       "      <td>-0.153662</td>\n",
       "      <td>-0.646508</td>\n",
       "      <td>1.321688</td>\n",
       "      <td>-0.997470</td>\n",
       "      <td>-1.570622</td>\n",
       "      <td>1.364482</td>\n",
       "    </tr>\n",
       "  </tbody>\n",
       "</table>\n",
       "<p>11652 rows × 11 columns</p>\n",
       "</div>"
      ],
      "text/plain": [
       "             t1        t2       hum  wind_speed  weather_code  is_holiday  \\\n",
       "16560 -1.147437 -1.270578  1.962310   -0.237405      0.518232   -0.153662   \n",
       "3081   0.414931  0.496124 -1.446788   -0.866787     -0.324332   -0.153662   \n",
       "4223   0.506835  0.572937  0.475363   -0.615035     -0.745613   -0.153662   \n",
       "3296   0.231123  0.342498 -0.249977   -0.237405      0.518232    6.507808   \n",
       "1356  -0.963629 -1.270578  0.221494    1.650740     -0.745613   -0.153662   \n",
       "...         ...       ...       ...         ...           ...         ...   \n",
       "7813   0.231123  0.342498  0.112693    2.091307      0.096950   -0.153662   \n",
       "10955 -1.515053 -1.501018  1.019368   -0.740911      1.782077   -0.153662   \n",
       "5192   1.609682  1.494694 -0.286244   -0.237405      0.096950   -0.153662   \n",
       "12172  0.782547  0.803376  0.511630   -0.615035      1.782077   -0.153662   \n",
       "235   -1.331245 -1.577831  0.221494    0.895482     -0.324332   -0.153662   \n",
       "\n",
       "       is_weekend    season      year     month      hour  \n",
       "16560    1.546771  1.321688  0.969001  1.577585 -0.349909  \n",
       "3081    -0.646508 -1.337824 -0.997470 -0.425819  0.507287  \n",
       "4223    -0.646508 -0.451320 -0.997470  0.146582 -1.207104  \n",
       "3296    -0.646508 -1.337824 -0.997470 -0.425819 -1.635702  \n",
       "1356     1.546771 -1.337824 -0.997470 -0.998221  1.078751  \n",
       "...           ...       ...       ...       ...       ...  \n",
       "7813     1.546771  1.321688 -0.997470  1.577585  0.793019  \n",
       "10955    1.546771 -1.337824  0.969001 -0.712020 -0.492775  \n",
       "5192    -0.646508 -0.451320 -0.997470  0.432782  0.364421  \n",
       "12172   -0.646508 -0.451320  0.969001 -0.139619  0.793019  \n",
       "235     -0.646508  1.321688 -0.997470 -1.570622  1.364482  \n",
       "\n",
       "[11652 rows x 11 columns]"
      ]
     },
     "execution_count": 30,
     "metadata": {},
     "output_type": "execute_result"
    }
   ],
   "source": [
    "X_train"
   ]
  },
  {
   "cell_type": "code",
   "execution_count": 31,
   "metadata": {},
   "outputs": [
    {
     "data": {
      "text/plain": [
       "array([ 376, 1626,   70, ..., 1376, 2872,  660], dtype=int64)"
      ]
     },
     "execution_count": 31,
     "metadata": {},
     "output_type": "execute_result"
    }
   ],
   "source": [
    "y_train.values"
   ]
  },
  {
   "cell_type": "markdown",
   "metadata": {},
   "source": [
    "### Training Model"
   ]
  },
  {
   "cell_type": "markdown",
   "metadata": {},
   "source": [
    "#### Linear Regression Model"
   ]
  },
  {
   "cell_type": "code",
   "execution_count": 32,
   "metadata": {},
   "outputs": [
    {
     "data": {
      "text/plain": [
       "LinearRegression(normalize=True)"
      ]
     },
     "execution_count": 32,
     "metadata": {},
     "output_type": "execute_result"
    }
   ],
   "source": [
    "lr = LinearRegression(normalize = True)\n",
    "lr.fit(X_train, y_train)"
   ]
  },
  {
   "cell_type": "code",
   "execution_count": 33,
   "metadata": {},
   "outputs": [
    {
     "data": {
      "text/plain": [
       "0.3404387609825418"
      ]
     },
     "execution_count": 33,
     "metadata": {},
     "output_type": "execute_result"
    }
   ],
   "source": [
    "lr.score(X_test, y_test)"
   ]
  },
  {
   "cell_type": "code",
   "execution_count": 34,
   "metadata": {},
   "outputs": [
    {
     "data": {
      "text/plain": [
       "array([ 922.46504342,  777.90267774, 1087.2992916 , ..., 1174.94232804,\n",
       "       1310.23353944, 1040.43605423])"
      ]
     },
     "execution_count": 34,
     "metadata": {},
     "output_type": "execute_result"
    }
   ],
   "source": [
    "# Prediction\n",
    "y_pred = lr.predict(X_test)\n",
    "y_pred"
   ]
  },
  {
   "cell_type": "code",
   "execution_count": 35,
   "metadata": {},
   "outputs": [
    {
     "name": "stdout",
     "output_type": "stream",
     "text": [
      "RMSE: 715.267198\n",
      "MAE: 535.191271\n"
     ]
    }
   ],
   "source": [
    "# Errors\n",
    "rmse = np.sqrt(mean_squared_error(y_test, y_pred))\n",
    "print(\"RMSE: %f\" % (rmse))\n",
    "\n",
    "mae = mean_absolute_error(y_test, y_pred)\n",
    "print(\"MAE: %f\" % (mae))"
   ]
  },
  {
   "cell_type": "markdown",
   "metadata": {},
   "source": [
    "#### XGBoost"
   ]
  },
  {
   "cell_type": "code",
   "execution_count": 36,
   "metadata": {},
   "outputs": [
    {
     "data": {
      "text/plain": [
       "XGBRegressor(base_score=0.5, booster='gbtree', colsample_bylevel=1,\n",
       "             colsample_bynode=1, colsample_bytree=1, gamma=0, gpu_id=-1,\n",
       "             importance_type='gain', interaction_constraints='',\n",
       "             learning_rate=0.300000012, max_delta_step=0, max_depth=6,\n",
       "             min_child_weight=1, missing=nan, monotone_constraints='()',\n",
       "             n_estimators=100, n_jobs=8, num_parallel_tree=1, random_state=0,\n",
       "             reg_alpha=0, reg_lambda=1, scale_pos_weight=1, subsample=1,\n",
       "             tree_method='exact', validate_parameters=1, verbosity=None)"
      ]
     },
     "execution_count": 36,
     "metadata": {},
     "output_type": "execute_result"
    }
   ],
   "source": [
    "model = XGBRegressor()\n",
    "model.fit(X_train, y_train)"
   ]
  },
  {
   "cell_type": "code",
   "execution_count": 37,
   "metadata": {},
   "outputs": [
    {
     "data": {
      "text/plain": [
       "0.9451878052601718"
      ]
     },
     "execution_count": 37,
     "metadata": {},
     "output_type": "execute_result"
    }
   ],
   "source": [
    "model.score(X_test, y_test)"
   ]
  },
  {
   "cell_type": "code",
   "execution_count": 38,
   "metadata": {},
   "outputs": [
    {
     "data": {
      "text/plain": [
       "array([616.3757 , 108.82301,  98.76415, ..., 617.8484 , 939.41797,\n",
       "       684.15784], dtype=float32)"
      ]
     },
     "execution_count": 38,
     "metadata": {},
     "output_type": "execute_result"
    }
   ],
   "source": [
    "y_pred = model.predict(X_test)\n",
    "y_pred"
   ]
  },
  {
   "cell_type": "code",
   "execution_count": 39,
   "metadata": {},
   "outputs": [
    {
     "name": "stdout",
     "output_type": "stream",
     "text": [
      "RMSE: 206.195576\n",
      "MAE: 129.891924\n"
     ]
    }
   ],
   "source": [
    "rmse = np.sqrt(mean_squared_error(y_test, y_pred))\n",
    "print(\"RMSE: %f\" % (rmse))\n",
    "\n",
    "mae = mean_absolute_error(y_test, y_pred)\n",
    "print(\"MAE: %f\" % (mae))"
   ]
  },
  {
   "cell_type": "markdown",
   "metadata": {},
   "source": [
    "### GUI"
   ]
  },
  {
   "cell_type": "code",
   "execution_count": 40,
   "metadata": {},
   "outputs": [],
   "source": [
    "    import tkinter as tk\n",
    "    from tkinter import messagebox\n",
    "\n",
    "    root=tk.Tk()\n",
    "\n",
    "    root.title(\"Bike Share Usage Prediction in London\")\n",
    "\n",
    "    canvas1 = tk.Canvas(root, width = 500, height = 680)\n",
    "    canvas1.pack()\n",
    "\n",
    "    label1 = tk.Label(root, text='Temperature')\n",
    "    canvas1.create_window(150, 100, window=label1)\n",
    "    entry1 = tk.Entry (root) \n",
    "    canvas1.create_window(320, 100, window=entry1)\n",
    "\n",
    "    label2 = tk.Label(root, text='temperature Feels')\n",
    "    canvas1.create_window(150, 140, window=label2)\n",
    "    entry2 = tk.Entry (root)\n",
    "    canvas1.create_window(320, 140, window=entry2)\n",
    "\n",
    "    label3 = tk.Label(root, text='Humidity')\n",
    "    canvas1.create_window(150, 180, window=label3)\n",
    "    entry3 = tk.Entry (root) \n",
    "    canvas1.create_window(320, 180, window=entry3)\n",
    "\n",
    "    label4 = tk.Label(root, text='Wind Speed')\n",
    "    canvas1.create_window(150, 220, window=label4)\n",
    "    entry4 = tk.Entry (root) \n",
    "    canvas1.create_window(320, 220, window=entry4)\n",
    "\n",
    "    label5 = tk.Label(root, text='Weather Code')\n",
    "    canvas1.create_window(150, 260, window=label5)\n",
    "    entry5 = tk.Entry (root) \n",
    "    canvas1.create_window(320, 260, window=entry5)\n",
    "\n",
    "    label6 = tk.Label(root, text='Is Holiday')\n",
    "    canvas1.create_window(150, 300, window=label6)\n",
    "    entry6 = tk.Entry (root) \n",
    "    canvas1.create_window(320, 300, window=entry6)\n",
    "\n",
    "    label7 = tk.Label(root, text='Is Weekend')\n",
    "    canvas1.create_window(150, 340, window=label7)\n",
    "    entry7 = tk.Entry (root) \n",
    "    canvas1.create_window(320, 340, window=entry7)\n",
    "\n",
    "    label8 = tk.Label(root, text='Season')\n",
    "    canvas1.create_window(150, 380, window=label8)\n",
    "    entry8 = tk.Entry (root) \n",
    "    canvas1.create_window(320, 380, window=entry8)\n",
    "    \n",
    "    label9 = tk.Label(root, text='Year')\n",
    "    canvas1.create_window(150, 420, window=label9)\n",
    "    entry9 = tk.Entry (root) \n",
    "    canvas1.create_window(320, 420, window=entry9)\n",
    "    \n",
    "    label10 = tk.Label(root, text='Month')\n",
    "    canvas1.create_window(150, 460, window=label10)\n",
    "    entry10 = tk.Entry (root) \n",
    "    canvas1.create_window(320, 460, window=entry10)\n",
    "    \n",
    "    label11 = tk.Label(root, text='Hour')\n",
    "    canvas1.create_window(150, 500, window=label11)\n",
    "    entry11 = tk.Entry (root) \n",
    "    canvas1.create_window(320, 500, window=entry11)\n",
    "\n",
    "    def values():\n",
    "\n",
    "        global lotf \n",
    "        lotf = float(entry1.get()) \n",
    "        global lota \n",
    "        lota = float(entry2.get())\n",
    "        global qual \n",
    "        qual = float(entry3.get())\n",
    "        global cond \n",
    "        cond = float(entry4.get())\n",
    "        global yr\n",
    "        yr = float(entry5.get())\n",
    "        global msv\n",
    "        msv = float(entry6.get())\n",
    "        global rooms\n",
    "        rooms = float(entry7.get())\n",
    "        global gtype\n",
    "        gtype = float(entry8.get())\n",
    "        global yer\n",
    "        yer = float(entry9.get())\n",
    "        global mn\n",
    "        mn = float(entry10.get())\n",
    "        global hr\n",
    "        hr = float(entry11.get())\n",
    "\n",
    "        your_list = [[lotf, lota, qual, cond, yr, msv, rooms, gtype, yer, mn, hr]]\n",
    "        Prediction_result  = ('Predicted Count: ', model.predict(pd.DataFrame (your_list,\n",
    "        columns=['t1', 't2', 'hum', 'wind_speed', 'weather_code', 'is_holiday', 'is_weekend', 'season','year','month','hour'])))\n",
    "        label_Prediction = tk.Label(root, text= Prediction_result, bg='lightgreen')\n",
    "        canvas1.create_window(260, 600, window=label_Prediction)\n",
    "\n",
    "    button1 = tk.Button (root, text='Predict Usage',command=values, bg='orange') \n",
    "    canvas1.create_window(270, 560, window=button1)\n",
    "\n",
    "    root.mainloop()"
   ]
  },
  {
   "cell_type": "markdown",
   "metadata": {},
   "source": [
    "### Updated GUI"
   ]
  },
  {
   "cell_type": "code",
   "execution_count": 41,
   "metadata": {},
   "outputs": [],
   "source": [
    "import datetime\n",
    "import time\n",
    "import tkinter as tk\n",
    "from tkinter import messagebox\n",
    "\n",
    "window=tk.Tk()\n",
    "\n",
    "window.title(\"Bike Share Usage Predictor\")\n",
    "window.geometry(\"940x800\")\n",
    "window.configure(bg=\"#113c85\")\n",
    "\n",
    "def main():\n",
    "     \n",
    "    global lotf \n",
    "    lotf = float(entry1.get()) \n",
    "    global lota \n",
    "    lota = float(entry2.get())\n",
    "    global qual \n",
    "    qual = float(entry3.get())\n",
    "    global cond \n",
    "    cond = float(entry4.get())\n",
    "    global yr\n",
    "    yr = float(entry5.get())\n",
    "    global msv\n",
    "    msv = float(entry6.get())\n",
    "    global rooms\n",
    "    rooms = float(entry7.get())\n",
    "    global gtype\n",
    "    gtype = float(entry8.get())\n",
    "    global yer\n",
    "    yer = float(entry9.get())\n",
    "    global mn\n",
    "    mn = float(entry10.get())\n",
    "    global hr\n",
    "    hr = float(entry11.get())\n",
    "    \n",
    "    final_amt.delete(0, tk.END)\n",
    "    your_list = [[lotf, lota, qual, cond, yr, msv, rooms, gtype, yer, mn, hr]]\n",
    "    Prediction_result = model.predict(pd.DataFrame (your_list,\n",
    "    columns=['t1', 't2', 'hum', 'wind_speed', 'weather_code', 'is_holiday', 'is_weekend', 'season','year','month','hour']))\n",
    "\n",
    "    final_amt.delete(0, tk.END)\n",
    "\n",
    "    final_amt.insert(0, str(\"Predicted counts: \"))\n",
    "    final_amt.insert(10, str(\"\"))\n",
    "    final_amt.insert(20, str(Prediction_result))\n",
    "    final_amt.insert(10, str(\"\"))\n",
    "    final_amt.insert(30, str(\"\"))\n",
    "    final_amt.insert(40, str(\"\"))\n",
    "    final_amt.insert(50, str(\"\"))\n",
    "\n",
    "def clear_all() :\n",
    "\n",
    "    lotf = entry1.get() \n",
    "    lota = entry2.get() \n",
    "    qual = entry3.get()\n",
    "    cond = entry4.get() \n",
    "    yr = entry5.get() \n",
    "    msv = entry6.get()\n",
    "    rooms = entry7.get() \n",
    "    gtype = entry8.get()\n",
    "    yer = entry9.get()\n",
    "    mn = entry10.get()\n",
    "    hr = entry11.get()\n",
    "\n",
    "    if( lotf == \"\" and lota ==\"\" and qual ==\"\" and cond ==\"\" and yr==\"\" and msv ==\"\" and rooms==\"\" \n",
    "       and gtype ==\"\" and yer ==\"\" and mn == \"\" and hr ==\"\"):\n",
    "        tk.messagebox.showinfo(\"Warning\",\"No data Entered!\")\n",
    "    else:\n",
    "        entry1.delete(0, tk.END)\n",
    "        entry2.delete(0, tk.END)\n",
    "        entry3.delete(0, tk.END) \n",
    "        entry4.delete(0, tk.END) \n",
    "        entry5.delete(0, tk.END) \n",
    "        entry6.delete(0, tk.END) \n",
    "        entry7.delete(0, tk.END) \n",
    "        entry8.delete(0, tk.END)\n",
    "        final_amt.delete(0, tk.END)\n",
    "\n",
    "def show_time():\n",
    "    text = time.strftime(\"%A %d %B %Y %H:%M:%S\")\n",
    "    label.config(text=text)\n",
    "    label.after(200,show_time)\n",
    "\n",
    "label = tk.Label(font=(\"Calibiri\",15),bg=\"#113c85\", fg=\"white\")\n",
    "label.grid(column=3, row=1)\n",
    "show_time()\n",
    "\n",
    "title = tk.Label(text=\"Bike Share Usage Prediction\",  font=(\"Alternity\",30), fg=\"white\", bg=\"#113c85\")\n",
    "\n",
    "label1 = tk.Label(text=\"Temperature \", font=(\"Candara Bold\",20), fg=\"white\", bg=\"#113c85\")\n",
    "label2 = tk.Label(text=\"Temperature feels \", font=(\"Candara Bold\",20), fg=\"white\", bg=\"#113c85\")\n",
    "label3 = tk.Label(text=\"Humidity \", font=(\"Candara Bold\",20), fg=\"white\", bg=\"#113c85\")\n",
    "label4 = tk.Label(text='Wind Speed', font=(\"Candara Bold\",20), fg=\"white\", bg=\"#113c85\")\n",
    "label5 = tk.Label(text='Weather Code', font=(\"Candara Bold\",20), fg=\"white\", bg=\"#113c85\")\n",
    "label6 = tk.Label(text='Is Holiday', font=(\"Candara Bold\",20), fg=\"white\", bg=\"#113c85\")\n",
    "label7 = tk.Label(text='Is Weekend', font=(\"Candara Bold\",20), fg=\"white\", bg=\"#113c85\")\n",
    "label8 = tk.Label(text='Season', font=(\"Candara Bold\",20), fg=\"white\", bg=\"#113c85\")\n",
    "label9 = tk.Label(text='Year', font=(\"Candara Bold\",20), fg=\"white\", bg=\"#113c85\")\n",
    "label10 = tk.Label(text='Month', font=(\"Candara Bold\",20), fg=\"white\", bg=\"#113c85\")\n",
    "label11 = tk.Label(text='Hour', font=(\"Candara Bold\",20), fg=\"white\", bg=\"#113c85\")\n",
    "\n",
    "label1.grid(row= 3, column=2)\n",
    "label2.grid(row= 4, column=2)\n",
    "label3.grid(row= 5, column=2)\n",
    "label4.grid(row= 6, column=2)\n",
    "label5.grid(row= 7, column=2)\n",
    "label6.grid(row= 8, column=2)\n",
    "label7.grid(row= 9, column=2)\n",
    "label8.grid(row= 10, column=2)\n",
    "label9.grid(row= 11, column=2)\n",
    "label10.grid(row= 12, column=2)\n",
    "label11.grid(row= 13, column=2)\n",
    "\n",
    "entry1 = tk.Entry(font=(\"Candara Bold\",15))\n",
    "entry2 = tk.Entry(font=(\"Candara Bold\",15))\n",
    "entry3 = tk.Entry(font=(\"Candara Bold\",15))\n",
    "entry4 = tk.Entry(font=(\"Candara Bold\",15))\n",
    "entry5 = tk.Entry(font=(\"Candara Bold\",15))\n",
    "entry6 = tk.Entry(font=(\"Candara Bold\",15))\n",
    "entry7 = tk.Entry(font=(\"Candara Bold\",15))\n",
    "entry8 = tk.Entry(font=(\"Candara Bold\",15))\n",
    "entry9 = tk.Entry(font=(\"Candara Bold\",15))\n",
    "entry10 = tk.Entry(font=(\"Candara Bold\",15))\n",
    "entry11 = tk.Entry(font=(\"Candara Bold\",15))\n",
    "\n",
    "predict_btn = tk.Button(text= \"Predict Counts\", font=(\"Candara Bold\",13), fg=\"black\", bg=\"#fcb813\",command=main)\n",
    "delete_btn = tk.Button(text= \"CLear All!\", font=(\"Candara Bold\",13), fg=\"white\", bg=\"#D70000\",command=clear_all)\n",
    "\n",
    "final_amt = tk.Entry(font=(\"Sitka Display Bold Italic\",30), fg=\"white\", bg=\"#113c85\", borderwidth=0) #FINAL RESULT\n",
    "final_amt.grid(column=3, row=50, pady=20,ipadx=220)\n",
    "\n",
    "title.grid(row= 0, column= 3)\n",
    "entry1.grid(row= 3, column= 3, padx=10, pady=10)\n",
    "entry2.grid(row= 4, column= 3, padx=10, pady=10)\n",
    "entry3.grid(row= 5, column= 3, padx=10, pady=15)\n",
    "entry4.grid(row= 6, column= 3, padx=10, pady=10)\n",
    "entry5.grid(row= 7, column= 3, padx=10, pady=10)\n",
    "entry6.grid(row= 8, column= 3, padx=10, pady=15)\n",
    "entry7.grid(row= 9, column= 3, padx=10, pady=10)\n",
    "entry8.grid(row= 10, column= 3, padx=10, pady=10)\n",
    "entry9.grid(row= 11, column= 3, padx=10, pady=10)\n",
    "entry10.grid(row= 12, column= 3, padx=10, pady=10)\n",
    "entry11.grid(row= 13, column= 3, padx=10, pady=10)\n",
    "\n",
    "predict_btn.grid(row= 20, column= 3)\n",
    "delete_btn.grid(row= 40, column= 3)\n",
    "\n",
    "window.mainloop()"
   ]
  },
  {
   "cell_type": "markdown",
   "metadata": {},
   "source": [
    "### For Flask"
   ]
  },
  {
   "cell_type": "code",
   "execution_count": 42,
   "metadata": {},
   "outputs": [
    {
     "data": {
      "text/plain": [
       "['bikeusageprediction.joblib']"
      ]
     },
     "execution_count": 42,
     "metadata": {},
     "output_type": "execute_result"
    }
   ],
   "source": [
    "from joblib import dump, load\n",
    "dump(model, 'bikeusageprediction.joblib')"
   ]
  },
  {
   "cell_type": "code",
   "execution_count": null,
   "metadata": {},
   "outputs": [],
   "source": []
  }
 ],
 "metadata": {
  "kernelspec": {
   "name": "python3",
   "display_name": "Python 3.8.10 64-bit (windows store)"
  },
  "language_info": {
   "codemirror_mode": {
    "name": "ipython",
    "version": 3
   },
   "file_extension": ".py",
   "mimetype": "text/x-python",
   "name": "python",
   "nbconvert_exporter": "python",
   "pygments_lexer": "ipython3",
   "version": "3.8.10"
  },
  "interpreter": {
   "hash": "45001af349b33f5f6193731b49504abb2c01dde18ebfa0486cd8b6f386a8f54c"
  }
 },
 "nbformat": 4,
 "nbformat_minor": 4
}